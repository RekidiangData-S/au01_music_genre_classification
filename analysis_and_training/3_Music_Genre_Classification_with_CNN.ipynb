{
 "cells": [
  {
   "cell_type": "markdown",
   "metadata": {},
   "source": [
    "# Diabetes Prediction - ML-Model\n",
    "\n",
    "#### Load preprocessed data, Build, Select, Train and Evaluate Models"
   ]
  },
  {
   "cell_type": "code",
   "execution_count": 1,
   "metadata": {},
   "outputs": [
    {
     "name": "stderr",
     "output_type": "stream",
     "text": [
      "2021-11-25 19:10:01.605272: W tensorflow/stream_executor/platform/default/dso_loader.cc:64] Could not load dynamic library 'libcudart.so.11.0'; dlerror: libcudart.so.11.0: cannot open shared object file: No such file or directory\n",
      "2021-11-25 19:10:01.605330: I tensorflow/stream_executor/cuda/cudart_stub.cc:29] Ignore above cudart dlerror if you do not have a GPU set up on your machine.\n"
     ]
    },
    {
     "name": "stdout",
     "output_type": "stream",
     "text": [
      "Libraries Imported ..\n"
     ]
    }
   ],
   "source": [
    "from models_config import *\n",
    "import json\n",
    "import numpy as np\n",
    "import pandas as pd\n",
    "from sklearn.model_selection import train_test_split\n",
    "import tensorflow.keras as keras\n",
    "import matplotlib.pyplot as plt\n",
    "\n",
    "print(\"Libraries Imported ..\")"
   ]
  },
  {
   "cell_type": "markdown",
   "metadata": {},
   "source": [
    "## 1. Load Preprocessed Dataset"
   ]
  },
  {
   "cell_type": "code",
   "execution_count": 2,
   "metadata": {},
   "outputs": [],
   "source": [
    "DATA_PATH =  \"../data/prepared_data.json\"\n",
    "mfcc, labels = load_data(DATA_PATH)"
   ]
  },
  {
   "cell_type": "code",
   "execution_count": 3,
   "metadata": {},
   "outputs": [
    {
     "name": "stdout",
     "output_type": "stream",
     "text": [
      " MFCCs Shape : (21312, 44, 13) | Labels Length : 21312\n"
     ]
    }
   ],
   "source": [
    "print(f\" MFCCs Shape : {mfcc.shape} | Labels Length : {len(labels)}\")"
   ]
  },
  {
   "cell_type": "markdown",
   "metadata": {},
   "source": [
    "## 2. Data Preparation"
   ]
  },
  {
   "cell_type": "code",
   "execution_count": 4,
   "metadata": {},
   "outputs": [
    {
     "data": {
      "text/html": [
       "<div>\n",
       "<style scoped>\n",
       "    .dataframe tbody tr th:only-of-type {\n",
       "        vertical-align: middle;\n",
       "    }\n",
       "\n",
       "    .dataframe tbody tr th {\n",
       "        vertical-align: top;\n",
       "    }\n",
       "\n",
       "    .dataframe thead th {\n",
       "        text-align: right;\n",
       "    }\n",
       "</style>\n",
       "<table border=\"1\" class=\"dataframe\">\n",
       "  <thead>\n",
       "    <tr style=\"text-align: right;\">\n",
       "      <th></th>\n",
       "      <th>Training</th>\n",
       "      <th>Validation</th>\n",
       "      <th>Testing</th>\n",
       "    </tr>\n",
       "  </thead>\n",
       "  <tbody>\n",
       "    <tr>\n",
       "      <th>Features</th>\n",
       "      <td>(12787, 44, 13, 1)</td>\n",
       "      <td>(3197, 44, 13, 1)</td>\n",
       "      <td>(5328, 44, 13, 1)</td>\n",
       "    </tr>\n",
       "    <tr>\n",
       "      <th>Target</th>\n",
       "      <td>(12787,)</td>\n",
       "      <td>(3197,)</td>\n",
       "      <td>(5328,)</td>\n",
       "    </tr>\n",
       "  </tbody>\n",
       "</table>\n",
       "</div>"
      ],
      "text/plain": [
       "                    Training         Validation            Testing\n",
       "Features  (12787, 44, 13, 1)  (3197, 44, 13, 1)  (5328, 44, 13, 1)\n",
       "Target              (12787,)            (3197,)            (5328,)"
      ]
     },
     "execution_count": 4,
     "metadata": {},
     "output_type": "execute_result"
    }
   ],
   "source": [
    "X_train, X_validation, X_test, y_train, y_validation, y_test = prepare_datasets(0.25, 0.2, DATA_PATH)\n",
    "pd.DataFrame({\"Training\": [X_train.shape, y_train.shape], \n",
    "              \"Validation\":[X_validation.shape, y_validation.shape], \n",
    "              \"Testing\":[X_test.shape, y_test.shape]}, index=['Features', 'Target'])"
   ]
  },
  {
   "cell_type": "markdown",
   "metadata": {},
   "source": [
    "## 3. Build Model"
   ]
  },
  {
   "cell_type": "code",
   "execution_count": 5,
   "metadata": {},
   "outputs": [
    {
     "name": "stderr",
     "output_type": "stream",
     "text": [
      "2021-11-25 19:10:45.466090: W tensorflow/stream_executor/platform/default/dso_loader.cc:64] Could not load dynamic library 'libcuda.so.1'; dlerror: libcuda.so.1: cannot open shared object file: No such file or directory\n",
      "2021-11-25 19:10:45.466207: W tensorflow/stream_executor/cuda/cuda_driver.cc:269] failed call to cuInit: UNKNOWN ERROR (303)\n",
      "2021-11-25 19:10:45.466298: I tensorflow/stream_executor/cuda/cuda_diagnostics.cc:156] kernel driver does not appear to be running on this host (DESKTOP-9QBALMC): /proc/driver/nvidia/version does not exist\n",
      "2021-11-25 19:10:45.466826: I tensorflow/core/platform/cpu_feature_guard.cc:151] This TensorFlow binary is optimized with oneAPI Deep Neural Network Library (oneDNN) to use the following CPU instructions in performance-critical operations:  AVX2 FMA\n",
      "To enable them in other operations, rebuild TensorFlow with the appropriate compiler flags.\n"
     ]
    }
   ],
   "source": [
    "input_shape = (X_train.shape[1], X_train.shape[2], 1)\n",
    "model = build_cnn_model(input_shape)"
   ]
  },
  {
   "cell_type": "markdown",
   "metadata": {},
   "source": [
    "## 4. Compule Model"
   ]
  },
  {
   "cell_type": "code",
   "execution_count": 6,
   "metadata": {},
   "outputs": [],
   "source": [
    "lr, loss, metrics = 0.0001, 'sparse_categorical_crossentropy', 'accuracy'\n",
    "model = compule_model(lr, loss, metrics, model)"
   ]
  },
  {
   "cell_type": "markdown",
   "metadata": {},
   "source": [
    "## 5.  Model Summary"
   ]
  },
  {
   "cell_type": "code",
   "execution_count": 7,
   "metadata": {},
   "outputs": [
    {
     "name": "stdout",
     "output_type": "stream",
     "text": [
      "Model: \"sequential\"\n",
      "_________________________________________________________________\n",
      " Layer (type)                Output Shape              Param #   \n",
      "=================================================================\n",
      " conv2d (Conv2D)             (None, 42, 11, 32)        320       \n",
      "                                                                 \n",
      " max_pooling2d (MaxPooling2D  (None, 21, 6, 32)        0         \n",
      " )                                                               \n",
      "                                                                 \n",
      " batch_normalization (BatchN  (None, 21, 6, 32)        128       \n",
      " ormalization)                                                   \n",
      "                                                                 \n",
      " conv2d_1 (Conv2D)           (None, 19, 4, 32)         9248      \n",
      "                                                                 \n",
      " max_pooling2d_1 (MaxPooling  (None, 10, 2, 32)        0         \n",
      " 2D)                                                             \n",
      "                                                                 \n",
      " batch_normalization_1 (Batc  (None, 10, 2, 32)        128       \n",
      " hNormalization)                                                 \n",
      "                                                                 \n",
      " conv2d_2 (Conv2D)           (None, 9, 1, 32)          4128      \n",
      "                                                                 \n",
      " max_pooling2d_2 (MaxPooling  (None, 5, 1, 32)         0         \n",
      " 2D)                                                             \n",
      "                                                                 \n",
      " batch_normalization_2 (Batc  (None, 5, 1, 32)         128       \n",
      " hNormalization)                                                 \n",
      "                                                                 \n",
      " flatten (Flatten)           (None, 160)               0         \n",
      "                                                                 \n",
      " dense (Dense)               (None, 64)                10304     \n",
      "                                                                 \n",
      " dropout (Dropout)           (None, 64)                0         \n",
      "                                                                 \n",
      " dense_1 (Dense)             (None, 10)                650       \n",
      "                                                                 \n",
      "=================================================================\n",
      "Total params: 25,034\n",
      "Trainable params: 24,842\n",
      "Non-trainable params: 192\n",
      "_________________________________________________________________\n"
     ]
    }
   ],
   "source": [
    " model.summary()"
   ]
  },
  {
   "cell_type": "markdown",
   "metadata": {},
   "source": [
    "## 6. Train Model"
   ]
  },
  {
   "cell_type": "code",
   "execution_count": 8,
   "metadata": {},
   "outputs": [
    {
     "name": "stdout",
     "output_type": "stream",
     "text": [
      "Epoch 1/30\n",
      "400/400 [==============================] - 6s 11ms/step - loss: 2.2967 - accuracy: 0.2043 - val_loss: 1.8188 - val_accuracy: 0.3760\n",
      "Epoch 2/30\n",
      "400/400 [==============================] - 4s 10ms/step - loss: 1.7650 - accuracy: 0.3751 - val_loss: 1.4586 - val_accuracy: 0.5195\n",
      "Epoch 3/30\n",
      "400/400 [==============================] - 4s 11ms/step - loss: 1.4963 - accuracy: 0.4748 - val_loss: 1.2311 - val_accuracy: 0.6049\n",
      "Epoch 4/30\n",
      "400/400 [==============================] - 5s 11ms/step - loss: 1.3022 - accuracy: 0.5441 - val_loss: 1.0601 - val_accuracy: 0.6662\n",
      "Epoch 5/30\n",
      "400/400 [==============================] - 4s 10ms/step - loss: 1.1441 - accuracy: 0.5983 - val_loss: 0.9288 - val_accuracy: 0.7069\n",
      "Epoch 6/30\n",
      "400/400 [==============================] - 4s 10ms/step - loss: 1.0099 - accuracy: 0.6426 - val_loss: 0.8156 - val_accuracy: 0.7448\n",
      "Epoch 7/30\n",
      "400/400 [==============================] - 4s 11ms/step - loss: 0.9106 - accuracy: 0.6826 - val_loss: 0.7366 - val_accuracy: 0.7635\n",
      "Epoch 8/30\n",
      "400/400 [==============================] - 4s 11ms/step - loss: 0.8352 - accuracy: 0.7113 - val_loss: 0.6561 - val_accuracy: 0.7829\n",
      "Epoch 9/30\n",
      "400/400 [==============================] - 4s 10ms/step - loss: 0.7564 - accuracy: 0.7381 - val_loss: 0.6074 - val_accuracy: 0.8051\n",
      "Epoch 10/30\n",
      "400/400 [==============================] - 4s 10ms/step - loss: 0.7076 - accuracy: 0.7576 - val_loss: 0.5566 - val_accuracy: 0.8226\n",
      "Epoch 11/30\n",
      "400/400 [==============================] - 4s 10ms/step - loss: 0.6652 - accuracy: 0.7775 - val_loss: 0.5426 - val_accuracy: 0.8220\n",
      "Epoch 12/30\n",
      "400/400 [==============================] - 4s 11ms/step - loss: 0.6230 - accuracy: 0.7918 - val_loss: 0.4948 - val_accuracy: 0.8417\n",
      "Epoch 13/30\n",
      "400/400 [==============================] - 4s 10ms/step - loss: 0.5840 - accuracy: 0.8052 - val_loss: 0.4663 - val_accuracy: 0.8477\n",
      "Epoch 14/30\n",
      "400/400 [==============================] - 4s 10ms/step - loss: 0.5555 - accuracy: 0.8143 - val_loss: 0.4501 - val_accuracy: 0.8533\n",
      "Epoch 15/30\n",
      "400/400 [==============================] - 4s 10ms/step - loss: 0.5239 - accuracy: 0.8260 - val_loss: 0.4165 - val_accuracy: 0.8652\n",
      "Epoch 16/30\n",
      "400/400 [==============================] - 4s 10ms/step - loss: 0.4966 - accuracy: 0.8381 - val_loss: 0.4068 - val_accuracy: 0.8658\n",
      "Epoch 17/30\n",
      "400/400 [==============================] - 4s 10ms/step - loss: 0.4820 - accuracy: 0.8445 - val_loss: 0.3774 - val_accuracy: 0.8833\n",
      "Epoch 18/30\n",
      "400/400 [==============================] - 4s 10ms/step - loss: 0.4595 - accuracy: 0.8481 - val_loss: 0.3636 - val_accuracy: 0.8758\n",
      "Epoch 19/30\n",
      "400/400 [==============================] - 4s 10ms/step - loss: 0.4375 - accuracy: 0.8585 - val_loss: 0.3589 - val_accuracy: 0.8818\n",
      "Epoch 20/30\n",
      "400/400 [==============================] - 4s 10ms/step - loss: 0.4184 - accuracy: 0.8646 - val_loss: 0.3463 - val_accuracy: 0.8868\n",
      "Epoch 21/30\n",
      "400/400 [==============================] - 4s 10ms/step - loss: 0.4109 - accuracy: 0.8678 - val_loss: 0.3284 - val_accuracy: 0.8943\n",
      "Epoch 22/30\n",
      "400/400 [==============================] - 4s 10ms/step - loss: 0.3983 - accuracy: 0.8716 - val_loss: 0.3364 - val_accuracy: 0.8849\n",
      "Epoch 23/30\n",
      "400/400 [==============================] - 4s 10ms/step - loss: 0.3744 - accuracy: 0.8797 - val_loss: 0.3304 - val_accuracy: 0.8893\n",
      "Epoch 24/30\n",
      "400/400 [==============================] - 4s 11ms/step - loss: 0.3646 - accuracy: 0.8835 - val_loss: 0.3223 - val_accuracy: 0.8946\n",
      "Epoch 25/30\n",
      "400/400 [==============================] - 4s 11ms/step - loss: 0.3603 - accuracy: 0.8827 - val_loss: 0.3101 - val_accuracy: 0.8968\n",
      "Epoch 26/30\n",
      "400/400 [==============================] - 4s 10ms/step - loss: 0.3554 - accuracy: 0.8848 - val_loss: 0.3083 - val_accuracy: 0.8999\n",
      "Epoch 27/30\n",
      "400/400 [==============================] - 4s 10ms/step - loss: 0.3449 - accuracy: 0.8883 - val_loss: 0.3157 - val_accuracy: 0.8943\n",
      "Epoch 28/30\n",
      "400/400 [==============================] - 4s 10ms/step - loss: 0.3257 - accuracy: 0.8944 - val_loss: 0.2996 - val_accuracy: 0.9058\n",
      "Epoch 29/30\n",
      "400/400 [==============================] - 4s 10ms/step - loss: 0.3209 - accuracy: 0.8976 - val_loss: 0.2937 - val_accuracy: 0.9037\n",
      "Epoch 30/30\n",
      "400/400 [==============================] - 4s 10ms/step - loss: 0.3169 - accuracy: 0.8976 - val_loss: 0.2904 - val_accuracy: 0.9046\n"
     ]
    }
   ],
   "source": [
    "history = model.fit(X_train, y_train, validation_data=(X_validation, y_validation), batch_size=32, epochs=30)"
   ]
  },
  {
   "cell_type": "markdown",
   "metadata": {},
   "source": [
    "## 7. Plot Model Training History"
   ]
  },
  {
   "cell_type": "code",
   "execution_count": 9,
   "metadata": {},
   "outputs": [
    {
     "data": {
      "image/png": "[encoded data removed]",
      "text/plain": [
       "<Figure size 432x288 with 2 Axes>"
      ]
     },
     "metadata": {
      "needs_background": "light"
     },
     "output_type": "display_data"
    },
    {
     "data": {
      "text/plain": [
       "<Figure size 1152x576 with 0 Axes>"
      ]
     },
     "metadata": {},
     "output_type": "display_data"
    }
   ],
   "source": [
    "plot_history(history)"
   ]
  },
  {
   "cell_type": "markdown",
   "metadata": {},
   "source": [
    "## 8.  Evaluate Model on test set"
   ]
  },
  {
   "cell_type": "code",
   "execution_count": 10,
   "metadata": {},
   "outputs": [
    {
     "name": "stdout",
     "output_type": "stream",
     "text": [
      "167/167 - 1s - loss: 0.3058 - accuracy: 0.9022 - 515ms/epoch - 3ms/step\n",
      "\n",
      "Test accuracy: 0.9022147059440613\n"
     ]
    }
   ],
   "source": [
    "model_loss_acc(model, X_train, y_train, X_test, y_test, X_validation, y_validation)"
   ]
  },
  {
   "cell_type": "markdown",
   "metadata": {},
   "source": [
    "## 9. Prediction"
   ]
  },
  {
   "cell_type": "code",
   "execution_count": 11,
   "metadata": {},
   "outputs": [
    {
     "name": "stdout",
     "output_type": "stream",
     "text": [
      "Target: 0, Predicted label: [0]\n"
     ]
    }
   ],
   "source": [
    "# pick a sample to predict from the test set\n",
    "X_to_predict = X_test[100]\n",
    "y_to_predict = y_test[100]\n",
    "\n",
    "# predict sample\n",
    "predict(model, X_to_predict, y_to_predict)"
   ]
  },
  {
   "cell_type": "markdown",
   "metadata": {},
   "source": [
    "#####################################################################################################\n",
    "\n",
    "#####################################################################################################\n",
    "\n",
    "#####################################################################################################"
   ]
  }
 ],
 "metadata": {
  "kernelspec": {
   "display_name": "au01_kernel2",
   "language": "python",
   "name": "au01_venv2"
  },
  "language_info": {
   "codemirror_mode": {
    "name": "ipython",
    "version": 3
   },
   "file_extension": ".py",
   "mimetype": "text/x-python",
   "name": "python",
   "nbconvert_exporter": "python",
   "pygments_lexer": "ipython3",
   "version": "3.8.10"
  }
 },
 "nbformat": 4,
 "nbformat_minor": 4
}
