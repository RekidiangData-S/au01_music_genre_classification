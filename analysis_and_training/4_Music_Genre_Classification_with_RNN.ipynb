{
 "cells": [
  {
   "cell_type": "markdown",
   "metadata": {},
   "source": [
    "# Diabetes Prediction - ML-Model\n",
    "\n",
    "#### Load preprocessed data, Build, Select, Train and Evaluate Models"
   ]
  },
  {
   "cell_type": "code",
   "execution_count": 1,
   "metadata": {},
   "outputs": [
    {
     "name": "stderr",
     "output_type": "stream",
     "text": [
      "2021-11-25 19:25:52.652006: W tensorflow/stream_executor/platform/default/dso_loader.cc:64] Could not load dynamic library 'libcudart.so.11.0'; dlerror: libcudart.so.11.0: cannot open shared object file: No such file or directory\n",
      "2021-11-25 19:25:52.652046: I tensorflow/stream_executor/cuda/cudart_stub.cc:29] Ignore above cudart dlerror if you do not have a GPU set up on your machine.\n"
     ]
    },
    {
     "name": "stdout",
     "output_type": "stream",
     "text": [
      "Libraries Imported ..\n"
     ]
    }
   ],
   "source": [
    "from models_config import *\n",
    "import json\n",
    "import numpy as np\n",
    "import pandas as pd\n",
    "from sklearn.model_selection import train_test_split\n",
    "import tensorflow.keras as keras\n",
    "import matplotlib.pyplot as plt\n",
    "\n",
    "print(\"Libraries Imported ..\")"
   ]
  },
  {
   "cell_type": "markdown",
   "metadata": {},
   "source": [
    "## 1. Load Preprocessed Dataset"
   ]
  },
  {
   "cell_type": "code",
   "execution_count": 2,
   "metadata": {},
   "outputs": [],
   "source": [
    "DATA_PATH =  \"../data/prepared_data.json\"\n",
    "mfcc, labels = load_data(DATA_PATH)"
   ]
  },
  {
   "cell_type": "code",
   "execution_count": 3,
   "metadata": {},
   "outputs": [
    {
     "name": "stdout",
     "output_type": "stream",
     "text": [
      " MFCCs Shape : (21312, 44, 13) | Labels Length : 21312\n"
     ]
    }
   ],
   "source": [
    "print(f\" MFCCs Shape : {mfcc.shape} | Labels Length : {len(labels)}\")"
   ]
  },
  {
   "cell_type": "markdown",
   "metadata": {},
   "source": [
    "## 2. Data Preparation"
   ]
  },
  {
   "cell_type": "code",
   "execution_count": 4,
   "metadata": {},
   "outputs": [
    {
     "data": {
      "text/html": [
       "<div>\n",
       "<style scoped>\n",
       "    .dataframe tbody tr th:only-of-type {\n",
       "        vertical-align: middle;\n",
       "    }\n",
       "\n",
       "    .dataframe tbody tr th {\n",
       "        vertical-align: top;\n",
       "    }\n",
       "\n",
       "    .dataframe thead th {\n",
       "        text-align: right;\n",
       "    }\n",
       "</style>\n",
       "<table border=\"1\" class=\"dataframe\">\n",
       "  <thead>\n",
       "    <tr style=\"text-align: right;\">\n",
       "      <th></th>\n",
       "      <th>Training</th>\n",
       "      <th>Validation</th>\n",
       "      <th>Testing</th>\n",
       "    </tr>\n",
       "  </thead>\n",
       "  <tbody>\n",
       "    <tr>\n",
       "      <th>Features</th>\n",
       "      <td>(12787, 44, 13, 1)</td>\n",
       "      <td>(3197, 44, 13, 1)</td>\n",
       "      <td>(5328, 44, 13, 1)</td>\n",
       "    </tr>\n",
       "    <tr>\n",
       "      <th>Target</th>\n",
       "      <td>(12787,)</td>\n",
       "      <td>(3197,)</td>\n",
       "      <td>(5328,)</td>\n",
       "    </tr>\n",
       "  </tbody>\n",
       "</table>\n",
       "</div>"
      ],
      "text/plain": [
       "                    Training         Validation            Testing\n",
       "Features  (12787, 44, 13, 1)  (3197, 44, 13, 1)  (5328, 44, 13, 1)\n",
       "Target              (12787,)            (3197,)            (5328,)"
      ]
     },
     "execution_count": 4,
     "metadata": {},
     "output_type": "execute_result"
    }
   ],
   "source": [
    "X_train, X_validation, X_test, y_train, y_validation, y_test = prepare_datasets(0.25, 0.2, DATA_PATH)\n",
    "pd.DataFrame({\"Training\": [X_train.shape, y_train.shape], \n",
    "              \"Validation\":[X_validation.shape, y_validation.shape], \n",
    "              \"Testing\":[X_test.shape, y_test.shape]}, index=['Features', 'Target'])"
   ]
  },
  {
   "cell_type": "markdown",
   "metadata": {},
   "source": [
    "## 3. Build Model"
   ]
  },
  {
   "cell_type": "code",
   "execution_count": 6,
   "metadata": {},
   "outputs": [],
   "source": [
    "input_shape = (X_train.shape[1], X_train.shape[2])\n",
    "model = build_rnn_model(input_shape)"
   ]
  },
  {
   "cell_type": "markdown",
   "metadata": {},
   "source": [
    "## 4. Compule Model"
   ]
  },
  {
   "cell_type": "code",
   "execution_count": 7,
   "metadata": {},
   "outputs": [],
   "source": [
    "lr, loss, metrics = 0.0001, 'sparse_categorical_crossentropy', 'accuracy'\n",
    "model = compule_model(lr, loss, metrics, model)"
   ]
  },
  {
   "cell_type": "markdown",
   "metadata": {},
   "source": [
    "## 5.  Model Summary"
   ]
  },
  {
   "cell_type": "code",
   "execution_count": 8,
   "metadata": {},
   "outputs": [
    {
     "name": "stdout",
     "output_type": "stream",
     "text": [
      "Model: \"sequential_1\"\n",
      "_________________________________________________________________\n",
      " Layer (type)                Output Shape              Param #   \n",
      "=================================================================\n",
      " lstm_1 (LSTM)               (None, 44, 64)            19968     \n",
      "                                                                 \n",
      " lstm_2 (LSTM)               (None, 64)                33024     \n",
      "                                                                 \n",
      " dense (Dense)               (None, 64)                4160      \n",
      "                                                                 \n",
      " dropout (Dropout)           (None, 64)                0         \n",
      "                                                                 \n",
      " dense_1 (Dense)             (None, 10)                650       \n",
      "                                                                 \n",
      "=================================================================\n",
      "Total params: 57,802\n",
      "Trainable params: 57,802\n",
      "Non-trainable params: 0\n",
      "_________________________________________________________________\n"
     ]
    }
   ],
   "source": [
    " model.summary()"
   ]
  },
  {
   "cell_type": "markdown",
   "metadata": {},
   "source": [
    "## 6. Train Model"
   ]
  },
  {
   "cell_type": "code",
   "execution_count": 9,
   "metadata": {},
   "outputs": [
    {
     "name": "stdout",
     "output_type": "stream",
     "text": [
      "Epoch 1/30\n",
      "400/400 [==============================] - 34s 74ms/step - loss: 2.2667 - accuracy: 0.1441 - val_loss: 2.1618 - val_accuracy: 0.2287\n",
      "Epoch 2/30\n",
      "400/400 [==============================] - 26s 66ms/step - loss: 2.0049 - accuracy: 0.2740 - val_loss: 1.7479 - val_accuracy: 0.3647\n",
      "Epoch 3/30\n",
      "400/400 [==============================] - 27s 68ms/step - loss: 1.6457 - accuracy: 0.4013 - val_loss: 1.3952 - val_accuracy: 0.5186\n",
      "Epoch 4/30\n",
      "400/400 [==============================] - 27s 67ms/step - loss: 1.3588 - accuracy: 0.5110 - val_loss: 1.1626 - val_accuracy: 0.6021\n",
      "Epoch 5/30\n",
      "400/400 [==============================] - 27s 68ms/step - loss: 1.1792 - accuracy: 0.5686 - val_loss: 1.0454 - val_accuracy: 0.6362\n",
      "Epoch 6/30\n",
      "400/400 [==============================] - 27s 68ms/step - loss: 1.0625 - accuracy: 0.6156 - val_loss: 0.9753 - val_accuracy: 0.6634\n",
      "Epoch 7/30\n",
      "400/400 [==============================] - 27s 66ms/step - loss: 0.9695 - accuracy: 0.6613 - val_loss: 0.8986 - val_accuracy: 0.6931\n",
      "Epoch 8/30\n",
      "400/400 [==============================] - 27s 67ms/step - loss: 0.8965 - accuracy: 0.6849 - val_loss: 0.8615 - val_accuracy: 0.7050\n",
      "Epoch 9/30\n",
      "400/400 [==============================] - 26s 65ms/step - loss: 0.8400 - accuracy: 0.7128 - val_loss: 0.8206 - val_accuracy: 0.7197\n",
      "Epoch 10/30\n",
      "400/400 [==============================] - 26s 65ms/step - loss: 0.7947 - accuracy: 0.7308 - val_loss: 0.7819 - val_accuracy: 0.7382\n",
      "Epoch 11/30\n",
      "400/400 [==============================] - 26s 65ms/step - loss: 0.7501 - accuracy: 0.7506 - val_loss: 0.7574 - val_accuracy: 0.7466\n",
      "Epoch 12/30\n",
      "400/400 [==============================] - 25s 64ms/step - loss: 0.7171 - accuracy: 0.7605 - val_loss: 0.7297 - val_accuracy: 0.7588\n",
      "Epoch 13/30\n",
      "400/400 [==============================] - 26s 65ms/step - loss: 0.6773 - accuracy: 0.7741 - val_loss: 0.7156 - val_accuracy: 0.7629\n",
      "Epoch 14/30\n",
      "400/400 [==============================] - 26s 66ms/step - loss: 0.6449 - accuracy: 0.7863 - val_loss: 0.7193 - val_accuracy: 0.7667\n",
      "Epoch 15/30\n",
      "400/400 [==============================] - 26s 64ms/step - loss: 0.6225 - accuracy: 0.7935 - val_loss: 0.6898 - val_accuracy: 0.7720\n",
      "Epoch 16/30\n",
      "400/400 [==============================] - 26s 65ms/step - loss: 0.5998 - accuracy: 0.8053 - val_loss: 0.6690 - val_accuracy: 0.7832\n",
      "Epoch 17/30\n",
      "400/400 [==============================] - 26s 65ms/step - loss: 0.5753 - accuracy: 0.8116 - val_loss: 0.6715 - val_accuracy: 0.7870\n",
      "Epoch 18/30\n",
      "400/400 [==============================] - 26s 64ms/step - loss: 0.5539 - accuracy: 0.8194 - val_loss: 0.6745 - val_accuracy: 0.7839\n",
      "Epoch 19/30\n",
      "400/400 [==============================] - 25s 62ms/step - loss: 0.5365 - accuracy: 0.8272 - val_loss: 0.6395 - val_accuracy: 0.7942\n",
      "Epoch 20/30\n",
      "400/400 [==============================] - 26s 64ms/step - loss: 0.5189 - accuracy: 0.8330 - val_loss: 0.6415 - val_accuracy: 0.7923\n",
      "Epoch 21/30\n",
      "400/400 [==============================] - 26s 65ms/step - loss: 0.5001 - accuracy: 0.8386 - val_loss: 0.6265 - val_accuracy: 0.8014\n",
      "Epoch 22/30\n",
      "400/400 [==============================] - 26s 66ms/step - loss: 0.4812 - accuracy: 0.8487 - val_loss: 0.6305 - val_accuracy: 0.8020\n",
      "Epoch 23/30\n",
      "400/400 [==============================] - 26s 66ms/step - loss: 0.4669 - accuracy: 0.8493 - val_loss: 0.6106 - val_accuracy: 0.8076\n",
      "Epoch 24/30\n",
      "400/400 [==============================] - 26s 64ms/step - loss: 0.4535 - accuracy: 0.8527 - val_loss: 0.6204 - val_accuracy: 0.8061\n",
      "Epoch 25/30\n",
      "400/400 [==============================] - 26s 65ms/step - loss: 0.4441 - accuracy: 0.8580 - val_loss: 0.6002 - val_accuracy: 0.8108\n",
      "Epoch 26/30\n",
      "400/400 [==============================] - 25s 63ms/step - loss: 0.4278 - accuracy: 0.8624 - val_loss: 0.6134 - val_accuracy: 0.8111\n",
      "Epoch 27/30\n",
      "400/400 [==============================] - 26s 64ms/step - loss: 0.4212 - accuracy: 0.8650 - val_loss: 0.6162 - val_accuracy: 0.8120\n",
      "Epoch 28/30\n",
      "400/400 [==============================] - 25s 64ms/step - loss: 0.4038 - accuracy: 0.8706 - val_loss: 0.5976 - val_accuracy: 0.8161\n",
      "Epoch 29/30\n",
      "400/400 [==============================] - 25s 63ms/step - loss: 0.4082 - accuracy: 0.8688 - val_loss: 0.5831 - val_accuracy: 0.8189\n",
      "Epoch 30/30\n",
      "400/400 [==============================] - 25s 62ms/step - loss: 0.3826 - accuracy: 0.8793 - val_loss: 0.6039 - val_accuracy: 0.8195\n"
     ]
    }
   ],
   "source": [
    "history = model.fit(X_train, y_train, validation_data=(X_validation, y_validation), batch_size=32, epochs=30)"
   ]
  },
  {
   "cell_type": "markdown",
   "metadata": {},
   "source": [
    "## 7. Plot Model Training History"
   ]
  },
  {
   "cell_type": "code",
   "execution_count": 10,
   "metadata": {},
   "outputs": [
    {
     "data": {
      "image/png": "[encoded data removed]",
      "text/plain": [
       "<Figure size 432x288 with 2 Axes>"
      ]
     },
     "metadata": {
      "needs_background": "light"
     },
     "output_type": "display_data"
    },
    {
     "data": {
      "text/plain": [
       "<Figure size 1152x576 with 0 Axes>"
      ]
     },
     "metadata": {},
     "output_type": "display_data"
    }
   ],
   "source": [
    "plot_history(history)"
   ]
  },
  {
   "cell_type": "markdown",
   "metadata": {},
   "source": [
    "## 8.  Evaluate Model on test set"
   ]
  },
  {
   "cell_type": "code",
   "execution_count": 11,
   "metadata": {},
   "outputs": [
    {
     "ename": "NameError",
     "evalue": "name 'model_loss_acc' is not defined",
     "output_type": "error",
     "traceback": [
      "\u001b[0;31m---------------------------------------------------------------------------\u001b[0m",
      "\u001b[0;31mNameError\u001b[0m                                 Traceback (most recent call last)",
      "\u001b[0;32m/tmp/ipykernel_6299/313801979.py\u001b[0m in \u001b[0;36m<module>\u001b[0;34m\u001b[0m\n\u001b[0;32m----> 1\u001b[0;31m \u001b[0mmodel_loss_acc\u001b[0m\u001b[0;34m(\u001b[0m\u001b[0mmodel\u001b[0m\u001b[0;34m,\u001b[0m \u001b[0mX_train\u001b[0m\u001b[0;34m,\u001b[0m \u001b[0my_train\u001b[0m\u001b[0;34m,\u001b[0m \u001b[0mX_test\u001b[0m\u001b[0;34m,\u001b[0m \u001b[0my_test\u001b[0m\u001b[0;34m,\u001b[0m \u001b[0mX_validation\u001b[0m\u001b[0;34m,\u001b[0m \u001b[0my_validation\u001b[0m\u001b[0;34m)\u001b[0m\u001b[0;34m\u001b[0m\u001b[0;34m\u001b[0m\u001b[0m\n\u001b[0m",
      "\u001b[0;31mNameError\u001b[0m: name 'model_loss_acc' is not defined"
     ]
    }
   ],
   "source": [
    "model_loss_acc(model, X_train, y_train, X_test, y_test, X_validation, y_validation)"
   ]
  },
  {
   "cell_type": "markdown",
   "metadata": {},
   "source": [
    "## 9. Prediction"
   ]
  },
  {
   "cell_type": "code",
   "execution_count": 12,
   "metadata": {},
   "outputs": [
    {
     "name": "stdout",
     "output_type": "stream",
     "text": [
      "Target: 2, Predicted label: [2]\n"
     ]
    }
   ],
   "source": [
    "# pick a sample to predict from the test set\n",
    "X_to_predict = X_test[100]\n",
    "y_to_predict = y_test[100]\n",
    "\n",
    "# predict sample\n",
    "predict(model, X_to_predict, y_to_predict)"
   ]
  },
  {
   "cell_type": "markdown",
   "metadata": {},
   "source": [
    "#####################################################################################################\n",
    "\n",
    "#####################################################################################################\n",
    "\n",
    "#####################################################################################################"
   ]
  }
 ],
 "metadata": {
  "kernelspec": {
   "display_name": "au01_kernel2",
   "language": "python",
   "name": "au01_venv2"
  },
  "language_info": {
   "codemirror_mode": {
    "name": "ipython",
    "version": 3
   },
   "file_extension": ".py",
   "mimetype": "text/x-python",
   "name": "python",
   "nbconvert_exporter": "python",
   "pygments_lexer": "ipython3",
   "version": "3.8.10"
  }
 },
 "nbformat": 4,
 "nbformat_minor": 4
}
