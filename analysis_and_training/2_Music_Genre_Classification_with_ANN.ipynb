{
 "cells": [
  {
   "cell_type": "markdown",
   "metadata": {},
   "source": [
    "# Diabetes Prediction - ML-Model\n",
    "\n",
    "#### Load preprocessed data, Build, Select, Train and Evaluate Models"
   ]
  },
  {
   "cell_type": "code",
   "execution_count": 1,
   "metadata": {},
   "outputs": [
    {
     "name": "stderr",
     "output_type": "stream",
     "text": [
      "2021-11-25 19:22:18.870840: W tensorflow/stream_executor/platform/default/dso_loader.cc:64] Could not load dynamic library 'libcudart.so.11.0'; dlerror: libcudart.so.11.0: cannot open shared object file: No such file or directory\n",
      "2021-11-25 19:22:18.870882: I tensorflow/stream_executor/cuda/cudart_stub.cc:29] Ignore above cudart dlerror if you do not have a GPU set up on your machine.\n"
     ]
    },
    {
     "name": "stdout",
     "output_type": "stream",
     "text": [
      "Libraries Imported ..\n"
     ]
    }
   ],
   "source": [
    "from models_config import *\n",
    "import json\n",
    "import numpy as np\n",
    "import pandas as pd\n",
    "from sklearn.model_selection import train_test_split\n",
    "import tensorflow.keras as keras\n",
    "import matplotlib.pyplot as plt\n",
    "\n",
    "print(\"Libraries Imported ..\")"
   ]
  },
  {
   "cell_type": "markdown",
   "metadata": {},
   "source": [
    "## 1. Load Preprocessed Dataset"
   ]
  },
  {
   "cell_type": "code",
   "execution_count": 2,
   "metadata": {},
   "outputs": [],
   "source": [
    "DATA_PATH =  \"../data/prepared_data.json\"\n",
    "mfcc, labels = load_data(DATA_PATH)"
   ]
  },
  {
   "cell_type": "code",
   "execution_count": 3,
   "metadata": {},
   "outputs": [
    {
     "name": "stdout",
     "output_type": "stream",
     "text": [
      " MFCCs Shape : (21312, 44, 13) | Labels Length : 21312\n"
     ]
    }
   ],
   "source": [
    "print(f\" MFCCs Shape : {mfcc.shape} | Labels Length : {len(labels)}\")"
   ]
  },
  {
   "cell_type": "markdown",
   "metadata": {},
   "source": [
    "## 2. Data Preparation"
   ]
  },
  {
   "cell_type": "code",
   "execution_count": 4,
   "metadata": {},
   "outputs": [
    {
     "data": {
      "text/html": [
       "<div>\n",
       "<style scoped>\n",
       "    .dataframe tbody tr th:only-of-type {\n",
       "        vertical-align: middle;\n",
       "    }\n",
       "\n",
       "    .dataframe tbody tr th {\n",
       "        vertical-align: top;\n",
       "    }\n",
       "\n",
       "    .dataframe thead th {\n",
       "        text-align: right;\n",
       "    }\n",
       "</style>\n",
       "<table border=\"1\" class=\"dataframe\">\n",
       "  <thead>\n",
       "    <tr style=\"text-align: right;\">\n",
       "      <th></th>\n",
       "      <th>Training</th>\n",
       "      <th>Validation</th>\n",
       "      <th>Testing</th>\n",
       "    </tr>\n",
       "  </thead>\n",
       "  <tbody>\n",
       "    <tr>\n",
       "      <th>Features</th>\n",
       "      <td>(12787, 44, 13, 1)</td>\n",
       "      <td>(3197, 44, 13, 1)</td>\n",
       "      <td>(5328, 44, 13, 1)</td>\n",
       "    </tr>\n",
       "    <tr>\n",
       "      <th>Target</th>\n",
       "      <td>(12787,)</td>\n",
       "      <td>(3197,)</td>\n",
       "      <td>(5328,)</td>\n",
       "    </tr>\n",
       "  </tbody>\n",
       "</table>\n",
       "</div>"
      ],
      "text/plain": [
       "                    Training         Validation            Testing\n",
       "Features  (12787, 44, 13, 1)  (3197, 44, 13, 1)  (5328, 44, 13, 1)\n",
       "Target              (12787,)            (3197,)            (5328,)"
      ]
     },
     "execution_count": 4,
     "metadata": {},
     "output_type": "execute_result"
    }
   ],
   "source": [
    "X_train, X_validation, X_test, y_train, y_validation, y_test = prepare_datasets(0.25, 0.2, DATA_PATH)\n",
    "pd.DataFrame({\"Training\": [X_train.shape, y_train.shape], \n",
    "              \"Validation\":[X_validation.shape, y_validation.shape], \n",
    "              \"Testing\":[X_test.shape, y_test.shape]}, index=['Features', 'Target'])"
   ]
  },
  {
   "cell_type": "markdown",
   "metadata": {},
   "source": [
    "## 3. Build Model"
   ]
  },
  {
   "cell_type": "code",
   "execution_count": 5,
   "metadata": {},
   "outputs": [
    {
     "name": "stderr",
     "output_type": "stream",
     "text": [
      "2021-11-25 19:23:22.694147: W tensorflow/stream_executor/platform/default/dso_loader.cc:64] Could not load dynamic library 'libcuda.so.1'; dlerror: libcuda.so.1: cannot open shared object file: No such file or directory\n",
      "2021-11-25 19:23:22.694275: W tensorflow/stream_executor/cuda/cuda_driver.cc:269] failed call to cuInit: UNKNOWN ERROR (303)\n",
      "2021-11-25 19:23:22.694365: I tensorflow/stream_executor/cuda/cuda_diagnostics.cc:156] kernel driver does not appear to be running on this host (DESKTOP-9QBALMC): /proc/driver/nvidia/version does not exist\n",
      "2021-11-25 19:23:22.695184: I tensorflow/core/platform/cpu_feature_guard.cc:151] This TensorFlow binary is optimized with oneAPI Deep Neural Network Library (oneDNN) to use the following CPU instructions in performance-critical operations:  AVX2 FMA\n",
      "To enable them in other operations, rebuild TensorFlow with the appropriate compiler flags.\n"
     ]
    }
   ],
   "source": [
    "input_shape = (X_train.shape[1], X_train.shape[2], 1)\n",
    "model = build_ann_model(input_shape)"
   ]
  },
  {
   "cell_type": "markdown",
   "metadata": {},
   "source": [
    "## 4. Compule Model"
   ]
  },
  {
   "cell_type": "code",
   "execution_count": 6,
   "metadata": {},
   "outputs": [],
   "source": [
    "lr, loss, metrics = 0.0001, 'sparse_categorical_crossentropy', 'accuracy'\n",
    "model = compule_model(lr, loss, metrics, model)"
   ]
  },
  {
   "cell_type": "markdown",
   "metadata": {},
   "source": [
    "## 5.  Model Summary"
   ]
  },
  {
   "cell_type": "code",
   "execution_count": 7,
   "metadata": {},
   "outputs": [
    {
     "name": "stdout",
     "output_type": "stream",
     "text": [
      "Model: \"sequential\"\n",
      "_________________________________________________________________\n",
      " Layer (type)                Output Shape              Param #   \n",
      "=================================================================\n",
      " flatten (Flatten)           (None, 572)               0         \n",
      "                                                                 \n",
      " dense (Dense)               (None, 512)               293376    \n",
      "                                                                 \n",
      " dropout (Dropout)           (None, 512)               0         \n",
      "                                                                 \n",
      " dense_1 (Dense)             (None, 256)               131328    \n",
      "                                                                 \n",
      " dropout_1 (Dropout)         (None, 256)               0         \n",
      "                                                                 \n",
      " dense_2 (Dense)             (None, 64)                16448     \n",
      "                                                                 \n",
      " dropout_2 (Dropout)         (None, 64)                0         \n",
      "                                                                 \n",
      " dense_3 (Dense)             (None, 10)                650       \n",
      "                                                                 \n",
      "=================================================================\n",
      "Total params: 441,802\n",
      "Trainable params: 441,802\n",
      "Non-trainable params: 0\n",
      "_________________________________________________________________\n"
     ]
    }
   ],
   "source": [
    " model.summary()"
   ]
  },
  {
   "cell_type": "markdown",
   "metadata": {},
   "source": [
    "## 6. Train Model"
   ]
  },
  {
   "cell_type": "code",
   "execution_count": 8,
   "metadata": {},
   "outputs": [
    {
     "name": "stdout",
     "output_type": "stream",
     "text": [
      "Epoch 1/30\n",
      "400/400 [==============================] - 4s 7ms/step - loss: 31.2313 - accuracy: 0.1026 - val_loss: 3.2057 - val_accuracy: 0.1067\n",
      "Epoch 2/30\n",
      "400/400 [==============================] - 2s 6ms/step - loss: 4.2078 - accuracy: 0.1051 - val_loss: 3.1860 - val_accuracy: 0.1067\n",
      "Epoch 3/30\n",
      "400/400 [==============================] - 2s 5ms/step - loss: 3.5851 - accuracy: 0.0999 - val_loss: 3.1745 - val_accuracy: 0.1067\n",
      "Epoch 4/30\n",
      "400/400 [==============================] - 2s 5ms/step - loss: 3.3242 - accuracy: 0.1026 - val_loss: 3.1639 - val_accuracy: 0.1067\n",
      "Epoch 5/30\n",
      "400/400 [==============================] - 2s 6ms/step - loss: 3.2871 - accuracy: 0.1014 - val_loss: 3.1529 - val_accuracy: 0.1067\n",
      "Epoch 6/30\n",
      "400/400 [==============================] - 2s 5ms/step - loss: 3.2333 - accuracy: 0.1019 - val_loss: 3.1411 - val_accuracy: 0.1067\n",
      "Epoch 7/30\n",
      "400/400 [==============================] - 2s 5ms/step - loss: 3.1788 - accuracy: 0.1015 - val_loss: 3.1284 - val_accuracy: 0.1067\n",
      "Epoch 8/30\n",
      "400/400 [==============================] - 2s 5ms/step - loss: 3.1755 - accuracy: 0.1014 - val_loss: 3.1146 - val_accuracy: 0.1067\n",
      "Epoch 9/30\n",
      "400/400 [==============================] - 2s 5ms/step - loss: 3.1505 - accuracy: 0.1017 - val_loss: 3.0999 - val_accuracy: 0.1067\n",
      "Epoch 10/30\n",
      "400/400 [==============================] - 2s 5ms/step - loss: 3.1238 - accuracy: 0.1014 - val_loss: 3.0839 - val_accuracy: 0.1067\n",
      "Epoch 11/30\n",
      "400/400 [==============================] - 2s 5ms/step - loss: 3.0904 - accuracy: 0.1018 - val_loss: 3.0667 - val_accuracy: 0.1067\n",
      "Epoch 12/30\n",
      "400/400 [==============================] - 2s 5ms/step - loss: 3.0668 - accuracy: 0.1021 - val_loss: 3.0480 - val_accuracy: 0.1067\n",
      "Epoch 13/30\n",
      "400/400 [==============================] - 2s 5ms/step - loss: 3.0479 - accuracy: 0.1017 - val_loss: 3.0278 - val_accuracy: 0.1067\n",
      "Epoch 14/30\n",
      "400/400 [==============================] - 2s 5ms/step - loss: 3.0310 - accuracy: 0.1014 - val_loss: 3.0061 - val_accuracy: 0.1067\n",
      "Epoch 15/30\n",
      "400/400 [==============================] - 2s 5ms/step - loss: 2.9990 - accuracy: 0.1020 - val_loss: 2.9829 - val_accuracy: 0.1067\n",
      "Epoch 16/30\n",
      "400/400 [==============================] - 2s 5ms/step - loss: 2.9768 - accuracy: 0.1015 - val_loss: 2.9581 - val_accuracy: 0.1067\n",
      "Epoch 17/30\n",
      "400/400 [==============================] - 2s 5ms/step - loss: 2.9552 - accuracy: 0.1017 - val_loss: 2.9320 - val_accuracy: 0.1067\n",
      "Epoch 18/30\n",
      "400/400 [==============================] - 2s 5ms/step - loss: 2.9308 - accuracy: 0.1016 - val_loss: 2.9053 - val_accuracy: 0.1067\n",
      "Epoch 19/30\n",
      "400/400 [==============================] - 2s 6ms/step - loss: 2.8950 - accuracy: 0.1017 - val_loss: 2.8776 - val_accuracy: 0.1067\n",
      "Epoch 20/30\n",
      "400/400 [==============================] - 2s 5ms/step - loss: 2.8672 - accuracy: 0.0996 - val_loss: 2.8485 - val_accuracy: 0.1067\n",
      "Epoch 21/30\n",
      "400/400 [==============================] - 2s 6ms/step - loss: 2.8378 - accuracy: 0.1016 - val_loss: 2.8187 - val_accuracy: 0.1067\n",
      "Epoch 22/30\n",
      "400/400 [==============================] - 2s 5ms/step - loss: 2.8089 - accuracy: 0.0986 - val_loss: 2.7890 - val_accuracy: 0.1067\n",
      "Epoch 23/30\n",
      "400/400 [==============================] - 2s 5ms/step - loss: 2.7788 - accuracy: 0.1019 - val_loss: 2.7597 - val_accuracy: 0.0982\n",
      "Epoch 24/30\n",
      "400/400 [==============================] - 2s 5ms/step - loss: 2.7476 - accuracy: 0.1023 - val_loss: 2.7301 - val_accuracy: 0.0982\n",
      "Epoch 25/30\n",
      "400/400 [==============================] - 2s 5ms/step - loss: 2.7205 - accuracy: 0.1005 - val_loss: 2.7018 - val_accuracy: 0.0982\n",
      "Epoch 26/30\n",
      "400/400 [==============================] - 2s 5ms/step - loss: 2.6907 - accuracy: 0.1023 - val_loss: 2.6742 - val_accuracy: 0.0982\n",
      "Epoch 27/30\n",
      "400/400 [==============================] - 2s 5ms/step - loss: 2.6630 - accuracy: 0.1007 - val_loss: 2.6473 - val_accuracy: 0.0982\n",
      "Epoch 28/30\n",
      "400/400 [==============================] - 2s 5ms/step - loss: 2.6371 - accuracy: 0.1021 - val_loss: 2.6214 - val_accuracy: 0.0982\n",
      "Epoch 29/30\n",
      "400/400 [==============================] - 2s 5ms/step - loss: 2.6148 - accuracy: 0.0989 - val_loss: 2.5980 - val_accuracy: 0.0982\n",
      "Epoch 30/30\n",
      "400/400 [==============================] - 2s 5ms/step - loss: 2.5939 - accuracy: 0.1002 - val_loss: 2.5754 - val_accuracy: 0.0982\n"
     ]
    }
   ],
   "source": [
    "history = model.fit(X_train, y_train, validation_data=(X_validation, y_validation), batch_size=32, epochs=30)"
   ]
  },
  {
   "cell_type": "markdown",
   "metadata": {},
   "source": [
    "## 7. Plot Model Training History"
   ]
  },
  {
   "cell_type": "code",
   "execution_count": 9,
   "metadata": {},
   "outputs": [
    {
     "data": {
      "image/png": "[encoded data removed]",
      "text/plain": [
       "<Figure size 432x288 with 2 Axes>"
      ]
     },
     "metadata": {
      "needs_background": "light"
     },
     "output_type": "display_data"
    },
    {
     "data": {
      "text/plain": [
       "<Figure size 1152x576 with 0 Axes>"
      ]
     },
     "metadata": {},
     "output_type": "display_data"
    }
   ],
   "source": [
    "plot_history(history)"
   ]
  },
  {
   "cell_type": "markdown",
   "metadata": {},
   "source": [
    "## 8.  Evaluate Model on test set"
   ]
  },
  {
   "cell_type": "code",
   "execution_count": 27,
   "metadata": {},
   "outputs": [
    {
     "name": "stdout",
     "output_type": "stream",
     "text": [
      "167/167 - 0s - loss: 2.5752 - accuracy: 0.1019 - 337ms/epoch - 2ms/step\n"
     ]
    },
    {
     "data": {
      "text/html": [
       "<div>\n",
       "<style scoped>\n",
       "    .dataframe tbody tr th:only-of-type {\n",
       "        vertical-align: middle;\n",
       "    }\n",
       "\n",
       "    .dataframe tbody tr th {\n",
       "        vertical-align: top;\n",
       "    }\n",
       "\n",
       "    .dataframe thead th {\n",
       "        text-align: right;\n",
       "    }\n",
       "</style>\n",
       "<table border=\"1\" class=\"dataframe\">\n",
       "  <thead>\n",
       "    <tr style=\"text-align: right;\">\n",
       "      <th></th>\n",
       "      <th>Training</th>\n",
       "      <th>Validation</th>\n",
       "      <th>Testing</th>\n",
       "    </tr>\n",
       "  </thead>\n",
       "  <tbody>\n",
       "    <tr>\n",
       "      <th>Accuracy</th>\n",
       "      <td>10.23</td>\n",
       "      <td>9.82</td>\n",
       "      <td>0.101914</td>\n",
       "    </tr>\n",
       "    <tr>\n",
       "      <th>Loss</th>\n",
       "      <td>257.52</td>\n",
       "      <td>257.54</td>\n",
       "      <td>257.520000</td>\n",
       "    </tr>\n",
       "  </tbody>\n",
       "</table>\n",
       "</div>"
      ],
      "text/plain": [
       "          Training  Validation     Testing\n",
       "Accuracy     10.23        9.82    0.101914\n",
       "Loss        257.52      257.54  257.520000"
      ]
     },
     "execution_count": 27,
     "metadata": {},
     "output_type": "execute_result"
    }
   ],
   "source": [
    "model_loss_acc(model, X_train, y_train, X_test, y_test, X_validation, y_validation)"
   ]
  },
  {
   "cell_type": "markdown",
   "metadata": {},
   "source": [
    "## 9. Prediction"
   ]
  },
  {
   "cell_type": "code",
   "execution_count": 11,
   "metadata": {},
   "outputs": [
    {
     "name": "stdout",
     "output_type": "stream",
     "text": [
      "Target: 0, Predicted label: [2]\n"
     ]
    }
   ],
   "source": [
    "# pick a sample to predict from the test set\n",
    "X_to_predict = X_test[100]\n",
    "y_to_predict = y_test[100]\n",
    "\n",
    "# predict sample\n",
    "predict(model, X_to_predict, y_to_predict)"
   ]
  },
  {
   "cell_type": "markdown",
   "metadata": {},
   "source": [
    "#####################################################################################################\n",
    "\n",
    "#####################################################################################################\n",
    "\n",
    "#####################################################################################################"
   ]
  }
 ],
 "metadata": {
  "kernelspec": {
   "display_name": "au01_kernel2",
   "language": "python",
   "name": "au01_venv2"
  },
  "language_info": {
   "codemirror_mode": {
    "name": "ipython",
    "version": 3
   },
   "file_extension": ".py",
   "mimetype": "text/x-python",
   "name": "python",
   "nbconvert_exporter": "python",
   "pygments_lexer": "ipython3",
   "version": "3.8.10"
  }
 },
 "nbformat": 4,
 "nbformat_minor": 4
}
